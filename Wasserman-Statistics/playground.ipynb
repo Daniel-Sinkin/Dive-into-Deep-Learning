{
 "cells": [
  {
   "attachments": {},
   "cell_type": "markdown",
   "metadata": {},
   "source": [
    "Suppose a coin has probability $p$ of falling heads up. If we flip the coin many times, we would expect the proportion of heads to be near $p$. We will make this formal later. Take $p = 0.3$ and $n = 1000$ and simulate $n$ coin flips. Plot the proportion of heads as a function of n. Repeat for $p = 0.03$."
   ]
  },
  {
   "cell_type": "code",
   "execution_count": null,
   "metadata": {},
   "outputs": [],
   "source": [
    "import numpy as np\n",
    "import matplotlib.pyplot as plt\n",
    "import math\n",
    "\n",
    "def Ex1_21(p = 0.3, n = 1000, draw = True, save = False):\n",
    "    rand = np.random.random(size = 1000)\n",
    "    _range = np.arange(1, n + 1)\n",
    "\n",
    "    result = np.cumsum(rand < p) / _range\n",
    "\n",
    "    fig, ax = plt.subplots()\n",
    "\n",
    "    ax.plot(_range, result)\n",
    "\n",
    "    if draw:\n",
    "        plt.show()\n",
    "\n",
    "    if save:\n",
    "        # p = 0.213, n = 1000 -> 21pct_1000\n",
    "        str_form = f\"{math.floor(p * 100)}pct_{n}\"\n",
    "        fig.savefig(f\"Ex1_21-{str_form}.png\")\n",
    "\n",
    "Ex1_21(p = 0.3, draw = True, save = True)\n",
    "Ex1_21(p = 0.03, draw = True, save = True)"
   ]
  },
  {
   "cell_type": "code",
   "execution_count": null,
   "metadata": {},
   "outputs": [],
   "source": [
    "def Ex1_22(p = 0.3, n = 1000, num_iter = 100):\n",
    "    sum = 0\n",
    "    for i in range(num_iter):\n",
    "        rand = np.random.random(size = n)\n",
    "        sum += np.sum(rand < p)\n",
    "\n",
    "    mean = sum / num_iter\n",
    "    expected = n * p\n",
    "    delta = abs(mean - expected) / (expected)\n",
    "    print(f\"mean = {mean}, delta = {delta * 100:.2f}%\")\n",
    "\n",
    "for n in [10, 100, 1000]:\n",
    "    Ex1_22(n = n)"
   ]
  },
  {
   "cell_type": "code",
   "execution_count": null,
   "metadata": {},
   "outputs": [],
   "source": [
    "import numpy as np\n",
    "\n",
    "labels = ['P(A)', 'P(B)', 'P(A, B)', 'P(A)P(B)', \n",
    "          'P(A, B) - P(A)P(B)']\n",
    "pct_str = lambda x : f\"{x * 100:.2f}%\"\n",
    "\n",
    "def Ex1_23_helper(probabilities):\n",
    "    for label, prob in zip(labels, probabilities):\n",
    "        print(f\"\\t{label}: {pct_str(prob)}\")\n",
    "\n",
    "def Ex1_23(A, B, n = 10000):\n",
    "    cap = A.intersection(B)\n",
    "\n",
    "    # rand does [) so I need to increment high to get 6\n",
    "    rand = np.random.randint(low = 1, high = 6 + 1, size = n)\n",
    "    prob_A = sum(np.isin(rand, list(A))) / n\n",
    "    prob_B = sum(np.isin(rand, list(B))) / n\n",
    "    prob_cap = sum(np.isin(rand, list(cap))) / n\n",
    "\n",
    "    prob_prod = prob_A * prob_B\n",
    "\n",
    "    probabilities = [prob_A, prob_B, prob_cap, prob_prod,\n",
    "                     prob_cap - prob_prod]\n",
    "\n",
    "    print(\"Experimental Values\")\n",
    "    Ex1_23_helper(probabilities)\n",
    "\n",
    "A, B = {2, 4, 6}, {1, 2, 3, 4}\n",
    "print(f\"A = {A}, B = {B}, AB = {A.intersection(B)}\")\n",
    "print(\"Theoretical Values\")\n",
    "Ex1_23_helper([1/2, 2/3, 1/3, 1/3, 0])\n",
    "Ex1_23(A, B)\n",
    "print()\n",
    "\n",
    "A, B = {1, 2, 3}, {3, 4, 5, 6}\n",
    "print(f\"A = {A}, B = {B}, AB = {A.intersection(B)}\")\n",
    "print(\"Theoretical Values\")\n",
    "Ex1_23_helper([1/2, 2/3, 1/6, 1/3, -1/6])\n",
    "Ex1_23(A, B)"
   ]
  },
  {
   "cell_type": "code",
   "execution_count": null,
   "metadata": {},
   "outputs": [],
   "source": [
    "import numpy as np\n",
    "import matplotlib.pyplot as plt\n",
    "\n",
    "def Ex3_11(n = 10000, draw = True, save = False, i = 0):\n",
    "    # 2*0 - 1 = -1, 2 * 1 -1 = 1\n",
    "    rand = 2 * np.random.randint(low = 0, high = 2, size = n) - 1\n",
    "\n",
    "    fig, ax = plt.subplots()\n",
    "    ax.plot(range(0, n), np.cumsum(rand))\n",
    "\n",
    "    if draw:\n",
    "        plt.show()\n",
    "\n",
    "    if save:\n",
    "        fig.savefig(f\"Ex3_11-{i}.png\")\n",
    "\n",
    "for i in range(10):\n",
    "    Ex3_11(draw = True, save = True, i = i)"
   ]
  },
  {
   "cell_type": "code",
   "execution_count": 1,
   "metadata": {},
   "outputs": [
    {
     "data": {
      "text/plain": [
       "0.75"
      ]
     },
     "execution_count": 1,
     "metadata": {},
     "output_type": "execute_result"
    }
   ],
   "source": [
    "import numpy as np\n",
    "\n",
    "mC = np.array([0, 1/10, 1/5, 3/10, 2/5])\n",
    "mP = np.array([0, 0.25, 0.5, 0.75, 1])\n",
    "np.dot(mC, mP)"
   ]
  },
  {
   "cell_type": "code",
   "execution_count": 2,
   "metadata": {},
   "outputs": [
    {
     "data": {
      "text/plain": [
       "array([0.2 , 0.15, 0.1 , 0.05, 0.  ])"
      ]
     },
     "execution_count": 2,
     "metadata": {},
     "output_type": "execute_result"
    }
   ],
   "source": [
    "0.2 - mC / 2"
   ]
  },
  {
   "cell_type": "code",
   "execution_count": 29,
   "metadata": {},
   "outputs": [
    {
     "data": {
      "image/png": "[encoded data removed]",
      "text/plain": [
       "<Figure size 640x480 with 1 Axes>"
      ]
     },
     "metadata": {},
     "output_type": "display_data"
    }
   ],
   "source": [
    "import numpy as np\n",
    "import matplotlib.pyplot as plt\n",
    "\n",
    "def Ex2_2(draw = True, save = False):\n",
    "    x = np.arange(start=0, stop = 6, step = 0.2)\n",
    "    F = (x >= 2) * 0.1 + (x >= 3) * 0.1 + (x >= 5) * 0.8\n",
    "    plt.step(x, F, where='post')\n",
    "    plt.show()\n",
    "\n",
    "Ex2_2(draw = True, save = True)"
   ]
  },
  {
   "cell_type": "code",
   "execution_count": 59,
   "metadata": {},
   "outputs": [
    {
     "name": "stdout",
     "output_type": "stream",
     "text": [
      "[0.1]\n",
      "[0.2]\n"
     ]
    }
   ],
   "source": [
    "import numpy as np\n",
    "import matplotlib.pyplot as plt\n",
    "\n",
    "def Ex2_2(draw = True, save = False):\n",
    "    x = np.arange(start=0, stop = 6, step = 0.2)\n",
    "    F = (x >= 2) * 0.1 + (x >= 3) * 0.1 + (x >= 5) * 0.8\n",
    "    #plt.step(x, F, where='post')\n",
    "\n",
    "    if save:\n",
    "        plt.savefig(\"Ex2_2.png\")\n",
    "    if draw:\n",
    "        plt.show()\n",
    "\n",
    "    right = np.where(abs(x - 4.8) < 0.1)[0]\n",
    "    left = np.where(abs(x - 2) < 0.1)[0]\n",
    "    print(\"P(2 < X <= 4.8) = \", F[right] - F[left])\n",
    "    print(\"P(2 <= X <= 4.8) = \", (F[right] - F[left - 1])\n",
    "\n",
    "Ex2_2(draw = False, save = False)"
   ]
  },
  {
   "cell_type": "code",
   "execution_count": null,
   "metadata": {},
   "outputs": [],
   "source": []
  }
 ],
 "metadata": {
  "kernelspec": {
   "display_name": "Python 3",
   "language": "python",
   "name": "python3"
  },
  "language_info": {
   "codemirror_mode": {
    "name": "ipython",
    "version": 3
   },
   "file_extension": ".py",
   "mimetype": "text/x-python",
   "name": "python",
   "nbconvert_exporter": "python",
   "pygments_lexer": "ipython3",
   "version": "3.10.6"
  },
  "orig_nbformat": 4
 },
 "nbformat": 4,
 "nbformat_minor": 2
}
