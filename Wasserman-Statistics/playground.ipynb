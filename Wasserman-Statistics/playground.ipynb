{
 "cells": [
  {
   "cell_type": "code",
   "execution_count": null,
   "metadata": {},
   "outputs": [],
   "source": [
    "import numpy as np\n",
    "import scipy\n",
    "import matplotlib.pyplot as plt\n",
    "# Allows to use Latex Code\n",
    "plt.rcParams.update({\n",
    "    \"text.usetex\": True\n",
    "})\n",
    "\n",
    "rng = np.random.default_rng()\n",
    "\n",
    "n, alpha = 100, 0.05\n",
    "samples = rng.normal(size = n)\n",
    "eps = np.sqrt(np.log(2 / alpha)  / (2 * n))\n",
    "\n",
    "F = lambda x : (sum(samples < x) / 100)\n",
    "L = lambda x : np.maximum(F(x) - eps, 0)\n",
    "U = lambda x : np.minimum(F(x) + eps, 1)\n",
    "N = scipy.stats.norm.cdf\n",
    "\n",
    "X = np.arange(start = -4, stop = 4, step = 0.1)\n",
    "yF = np.vectorize(F)(X)\n",
    "yL = np.vectorize(L)(X)\n",
    "yU = np.vectorize(U)(X)\n",
    "yN = np.vectorize(N)(X)\n",
    "\n",
    "plt.plot(X, yL, label = \"L(x)\")\n",
    "plt.plot(X, yF, label = r\"$\\hat{F}_n(x)$\")\n",
    "plt.plot(X, yU, label = \"U(x)\")\n",
    "plt.plot(X, yN, linestyle='--', label = r\"$\\Phi(x)$\")\n",
    "\n",
    "plt.legend()\n",
    "plt.legend(fontsize=14)\n",
    "\n",
    "plt.savefig(\"Ex7_3.png\", dpi = 300)\n",
    "plt.show()"
   ]
  },
  {
   "cell_type": "code",
   "execution_count": null,
   "metadata": {},
   "outputs": [],
   "source": [
    "k, count, count_cauchy = 1000, 0, 0\n",
    "for i in range(k):\n",
    "    samples = rng.normal(size = n)\n",
    "    samples_cauchy = rng.standard_cauchy(size = n)\n",
    "\n",
    "    F = lambda x : (sum(samples < x) / 100)\n",
    "    F_cauchy = lambda x : (sum(samples_cauchy < x) / 100)\n",
    "    L = lambda x : np.maximum(F(x) - eps, 0)\n",
    "    U = lambda x : np.minimum(F(x) + eps, 1)\n",
    "\n",
    "    C = scipy.stats.cauchy.cdf\n",
    "\n",
    "    yF = np.vectorize(F)(X)\n",
    "    yC = np.vectorize(C)(X)\n",
    "    yL = np.vectorize(L)(X)\n",
    "    yU = np.vectorize(U)(X)\n",
    "\n",
    "    cmp = lambda x : (N(x) >= L(x) and N(x) <= U(x))\n",
    "    cmp_cauchy = lambda x : (C(x) >= L(x) and C(x) <= U(x))\n",
    "    contains = np.vectorize(cmp)(X)\n",
    "    contains_cauchy = np.vectorize(cmp_cauchy)(X)\n",
    "    if not contains.all():\n",
    "        count += 1\n",
    "\n",
    "    if not contains_cauchy.all():\n",
    "        count_cauchy += 1\n",
    "\n",
    "print(f\"Normal : {count / k * 100:.2f}%\")\n",
    "print(f\"Cauchy : {count_cauchy / k * 100:.2f}%\")"
   ]
  },
  {
   "cell_type": "code",
   "execution_count": null,
   "metadata": {},
   "outputs": [],
   "source": [
    "import pandas as pd\n",
    "\n",
    "# Define the file path\n",
    "file_path = \"Data/fijiquakes.dat\"\n",
    "\n",
    "# Define the column names\n",
    "column_names = ['Obs', 'lat', 'long', 'depth', 'mag', 'stations']\n",
    "\n",
    "# Read the text file into a pandas DataFrame, skipping the first row\n",
    "df = pd.read_csv(file_path, sep='\\s+', header=None, names=column_names, index_col=0, skiprows=1)\n",
    "\n",
    "# Print the DataFrame\n",
    "print(df)"
   ]
  },
  {
   "cell_type": "code",
   "execution_count": 3,
   "metadata": {},
   "outputs": [
    {
     "name": "stdout",
     "output_type": "stream",
     "text": [
      "mu = 70.90\n",
      "se = 9.60\n",
      "(mu-z*se, mu+z*se) = (55.11, 86.68)\n"
     ]
    }
   ],
   "source": [
    "import numpy as np\n",
    "import pandas as pd\n",
    "import scipy\n",
    "\n",
    "file_path = \"Data/faithful.dat\"\n",
    "\n",
    "column_names = ['eruptions', 'waiting']\n",
    "df = pd.DataFrame(columns=column_names)\n",
    "\n",
    "with open(file_path, 'r') as file:\n",
    "    next(file)  # Skips the header row\n",
    "    for line in file:\n",
    "        _, eruptions, waiting = line.strip().split()\n",
    "        data_dict = {'eruptions': float(eruptions), 'waiting': int(waiting)}\n",
    "        df = df.append(data_dict, ignore_index=True)\n",
    "\n",
    "\n",
    "X = df[\"waiting\"].values\n",
    "n = len(X)\n",
    "mu = np.mean(X)\n",
    "variance = np.dot(X - mu, X - mu) / (2 * n)\n",
    "sigma = np.sqrt(variance)\n",
    "\n",
    "print(f\"mu = {mu:.2f}\\nse = {sigma:.2f}\")\n",
    "\n",
    "z = scipy.stats.norm.ppf(0.95)\n",
    "print(f\"(mu-z*se, mu+z*se) = ({mu - z * sigma:.2f}, {mu + z * sigma:.2f})\")"
   ]
  },
  {
   "cell_type": "code",
   "execution_count": 4,
   "metadata": {},
   "outputs": [
    {
     "data": {
      "text/plain": [
       "1.6448536269514722"
      ]
     },
     "execution_count": 4,
     "metadata": {},
     "output_type": "execute_result"
    }
   ],
   "source": [
    "z"
   ]
  },
  {
   "cell_type": "code",
   "execution_count": null,
   "metadata": {},
   "outputs": [],
   "source": []
  }
 ],
 "metadata": {
  "kernelspec": {
   "display_name": "Python 3",
   "language": "python",
   "name": "python3"
  },
  "language_info": {
   "codemirror_mode": {
    "name": "ipython",
    "version": 3
   },
   "file_extension": ".py",
   "mimetype": "text/x-python",
   "name": "python",
   "nbconvert_exporter": "python",
   "pygments_lexer": "ipython3",
   "version": "3.10.6"
  },
  "orig_nbformat": 4
 },
 "nbformat": 4,
 "nbformat_minor": 2
}
