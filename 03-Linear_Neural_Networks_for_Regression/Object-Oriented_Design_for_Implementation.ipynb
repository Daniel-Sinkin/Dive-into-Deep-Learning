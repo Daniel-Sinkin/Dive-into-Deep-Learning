{
 "cells": [
  {
   "cell_type": "code",
   "execution_count": 5,
   "metadata": {},
   "outputs": [],
   "source": [
    "%matplotlib inline\n",
    "import random\n",
    "import tensorflow as tf\n",
    "\n",
    "import inspect\n",
    "\n",
    "from d2l import tensorflow as d2l"
   ]
  },
  {
   "cell_type": "code",
   "execution_count": 6,
   "metadata": {},
   "outputs": [],
   "source": [
    "class HyperParameters:\n",
    "    def save_hyperparameters(self, ignore=[]):\n",
    "        frame = inspect.currentframe().f_back\n",
    "        _, _, _, local_vars = inspect.getargvalues(frame)\n",
    "        self.hparams = {k:v for k, v in local_vars.items()\n",
    "                        if k not in set(ignore+['self']) and not k.startswith('_')}\n",
    "        for k, v in self.hparams.items():\n",
    "            setattr(self, k, v)"
   ]
  },
  {
   "cell_type": "code",
   "execution_count": 7,
   "metadata": {},
   "outputs": [
    {
     "ename": "NameError",
     "evalue": "name 'inspect' is not defined",
     "output_type": "error",
     "traceback": [
      "\u001b[0;31m---------------------------------------------------------------------------\u001b[0m",
      "\u001b[0;31mNameError\u001b[0m                                 Traceback (most recent call last)",
      "Cell \u001b[0;32mIn[7], line 7\u001b[0m\n\u001b[1;32m      4\u001b[0m         \u001b[39mprint\u001b[39m(\u001b[39m'\u001b[39m\u001b[39mself.a =\u001b[39m\u001b[39m'\u001b[39m, \u001b[39mself\u001b[39m\u001b[39m.\u001b[39ma, \u001b[39m'\u001b[39m\u001b[39mself.b =\u001b[39m\u001b[39m'\u001b[39m, \u001b[39mself\u001b[39m\u001b[39m.\u001b[39mb)\n\u001b[1;32m      5\u001b[0m         \u001b[39mprint\u001b[39m(\u001b[39m'\u001b[39m\u001b[39mThere is no self.c =\u001b[39m\u001b[39m'\u001b[39m, \u001b[39mnot\u001b[39;00m \u001b[39mhasattr\u001b[39m(\u001b[39mself\u001b[39m, \u001b[39m'\u001b[39m\u001b[39mc\u001b[39m\u001b[39m'\u001b[39m))\n\u001b[0;32m----> 7\u001b[0m b \u001b[39m=\u001b[39m B(a\u001b[39m=\u001b[39;49m\u001b[39m1\u001b[39;49m, b\u001b[39m=\u001b[39;49m\u001b[39m2\u001b[39;49m, c\u001b[39m=\u001b[39;49m\u001b[39m3\u001b[39;49m)\n",
      "Cell \u001b[0;32mIn[7], line 3\u001b[0m, in \u001b[0;36mB.__init__\u001b[0;34m(self, a, b, c)\u001b[0m\n\u001b[1;32m      2\u001b[0m \u001b[39mdef\u001b[39;00m \u001b[39m__init__\u001b[39m(\u001b[39mself\u001b[39m, a, b, c):\n\u001b[0;32m----> 3\u001b[0m     \u001b[39mself\u001b[39;49m\u001b[39m.\u001b[39;49msave_hyperparameters(ignore\u001b[39m=\u001b[39;49m[\u001b[39m'\u001b[39;49m\u001b[39mc\u001b[39;49m\u001b[39m'\u001b[39;49m])\n\u001b[1;32m      4\u001b[0m     \u001b[39mprint\u001b[39m(\u001b[39m'\u001b[39m\u001b[39mself.a =\u001b[39m\u001b[39m'\u001b[39m, \u001b[39mself\u001b[39m\u001b[39m.\u001b[39ma, \u001b[39m'\u001b[39m\u001b[39mself.b =\u001b[39m\u001b[39m'\u001b[39m, \u001b[39mself\u001b[39m\u001b[39m.\u001b[39mb)\n\u001b[1;32m      5\u001b[0m     \u001b[39mprint\u001b[39m(\u001b[39m'\u001b[39m\u001b[39mThere is no self.c =\u001b[39m\u001b[39m'\u001b[39m, \u001b[39mnot\u001b[39;00m \u001b[39mhasattr\u001b[39m(\u001b[39mself\u001b[39m, \u001b[39m'\u001b[39m\u001b[39mc\u001b[39m\u001b[39m'\u001b[39m))\n",
      "Cell \u001b[0;32mIn[6], line 3\u001b[0m, in \u001b[0;36mHyperParameters.save_hyperparameters\u001b[0;34m(self, ignore)\u001b[0m\n\u001b[1;32m      2\u001b[0m \u001b[39mdef\u001b[39;00m \u001b[39msave_hyperparameters\u001b[39m(\u001b[39mself\u001b[39m, ignore\u001b[39m=\u001b[39m[]):\n\u001b[0;32m----> 3\u001b[0m     frame \u001b[39m=\u001b[39m inspect\u001b[39m.\u001b[39mcurrentframe()\u001b[39m.\u001b[39mf_back\n\u001b[1;32m      4\u001b[0m     _, _, _, local_vars \u001b[39m=\u001b[39m inspect\u001b[39m.\u001b[39mgetargvalues(frame)\n\u001b[1;32m      5\u001b[0m     \u001b[39mself\u001b[39m\u001b[39m.\u001b[39mhparams \u001b[39m=\u001b[39m {k:v \u001b[39mfor\u001b[39;00m k, v \u001b[39min\u001b[39;00m local_vars\u001b[39m.\u001b[39mitems()\n\u001b[1;32m      6\u001b[0m                     \u001b[39mif\u001b[39;00m k \u001b[39mnot\u001b[39;00m \u001b[39min\u001b[39;00m \u001b[39mset\u001b[39m(ignore\u001b[39m+\u001b[39m[\u001b[39m'\u001b[39m\u001b[39mself\u001b[39m\u001b[39m'\u001b[39m]) \u001b[39mand\u001b[39;00m \u001b[39mnot\u001b[39;00m k\u001b[39m.\u001b[39mstartswith(\u001b[39m'\u001b[39m\u001b[39m_\u001b[39m\u001b[39m'\u001b[39m)}\n",
      "\u001b[0;31mNameError\u001b[0m: name 'inspect' is not defined"
     ]
    }
   ],
   "source": [
    "class B(HyperParameters):\n",
    "    def __init__(self, a, b, c):\n",
    "        self.save_hyperparameters(ignore=['c'])\n",
    "        print('self.a =', self.a, 'self.b =', self.b)\n",
    "        print('There is no self.c =', not hasattr(self, 'c'))\n",
    "\n",
    "b = B(a=1, b=2, c=3)"
   ]
  },
  {
   "cell_type": "code",
   "execution_count": null,
   "metadata": {},
   "outputs": [],
   "source": [
    "class SyntheticRegressionData(d2l.DataModule):  #@save\n",
    "    \"\"\"Synthetic data for linear regression.\"\"\"\n",
    "    def __init__(self, w, b, noise=0.01, num_train=1000, num_val=1000,\n",
    "                 batch_size=32):\n",
    "        super().__init__()\n",
    "        self.save_hyperparameters()\n",
    "        n = num_train + num_val\n",
    "        self.X = tf.random.normal((n, w.shape[0]))\n",
    "        noise = tf.random.normal((n, 1)) * noise\n",
    "        self.y = tf.matmul(self.X, tf.reshape(w, (-1, 1))) + b + noise"
   ]
  },
  {
   "cell_type": "code",
   "execution_count": null,
   "metadata": {},
   "outputs": [],
   "source": []
  }
 ],
 "metadata": {
  "kernelspec": {
   "display_name": "Python 3",
   "language": "python",
   "name": "python3"
  },
  "language_info": {
   "codemirror_mode": {
    "name": "ipython",
    "version": 3
   },
   "file_extension": ".py",
   "mimetype": "text/x-python",
   "name": "python",
   "nbconvert_exporter": "python",
   "pygments_lexer": "ipython3",
   "version": "3.10.6"
  },
  "orig_nbformat": 4
 },
 "nbformat": 4,
 "nbformat_minor": 2
}
