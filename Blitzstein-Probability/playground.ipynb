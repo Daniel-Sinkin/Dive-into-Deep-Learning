{
 "cells": [
  {
   "cell_type": "code",
   "execution_count": 1,
   "metadata": {},
   "outputs": [],
   "source": [
    "\n",
    "import numpy as np"
   ]
  },
  {
   "cell_type": "code",
   "execution_count": 2,
   "metadata": {},
   "outputs": [
    {
     "ename": "AttributeError",
     "evalue": "'dict' object has no attribute 'append'",
     "output_type": "error",
     "traceback": [
      "\u001b[0;31m---------------------------------------------------------------------------\u001b[0m",
      "\u001b[0;31mAttributeError\u001b[0m                            Traceback (most recent call last)",
      "Cell \u001b[0;32mIn[2], line 10\u001b[0m\n\u001b[1;32m      8\u001b[0m \u001b[39mfor\u001b[39;00m i \u001b[39min\u001b[39;00m \u001b[39mrange\u001b[39m(numTries):\n\u001b[1;32m      9\u001b[0m     perm \u001b[39m=\u001b[39m np\u001b[39m.\u001b[39mrandom\u001b[39m.\u001b[39mpermutation(np\u001b[39m.\u001b[39marange(\u001b[39m1\u001b[39m, n\u001b[39m+\u001b[39m\u001b[39m1\u001b[39m))\n\u001b[0;32m---> 10\u001b[0m     hits\u001b[39m.\u001b[39;49mappend(np\u001b[39m.\u001b[39msum(lst \u001b[39m==\u001b[39m perm))\n\u001b[1;32m     11\u001b[0m     temp\u001b[39m.\u001b[39mappend()\n\u001b[1;32m     13\u001b[0m hits[n] \u001b[39m=\u001b[39m temp\n",
      "\u001b[0;31mAttributeError\u001b[0m: 'dict' object has no attribute 'append'"
     ]
    }
   ],
   "source": [
    "n_list = {5, 10, 25, 100, 250, 1000}\n",
    "numTries = 100\n",
    "\n",
    "hits = {}\n",
    "for n in n_list:\n",
    "    temp = []\n",
    "    lst = np.arange(1, n+1)\n",
    "    for i in range(numTries):\n",
    "        perm = np.random.permutation(np.arange(1, n+1))\n",
    "        temp.append(np.sum(lst == perm))\n",
    "\n",
    "    hits[n] = temp"
   ]
  },
  {
   "cell_type": "code",
   "execution_count": null,
   "metadata": {},
   "outputs": [],
   "source": []
  }
 ],
 "metadata": {
  "kernelspec": {
   "display_name": "Python 3",
   "language": "python",
   "name": "python3"
  },
  "language_info": {
   "codemirror_mode": {
    "name": "ipython",
    "version": 3
   },
   "file_extension": ".py",
   "mimetype": "text/x-python",
   "name": "python",
   "nbconvert_exporter": "python",
   "pygments_lexer": "ipython3",
   "version": "3.10.6"
  },
  "orig_nbformat": 4
 },
 "nbformat": 4,
 "nbformat_minor": 2
}
