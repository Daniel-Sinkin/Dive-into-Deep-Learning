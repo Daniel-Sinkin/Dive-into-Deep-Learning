{
 "cells": [
  {
   "cell_type": "markdown",
   "id": "6a17e94e",
   "metadata": {},
   "source": [
    "# Momentum Strategy\n",
    "This notebook allows automizes investing using a Momentum Strategy, looking at 4 different timeslots (1 month, 3 months, 6 months and a year) to give an optimal recommendation of how to invest, outputting the entire list to a Excel format, as well as plotting the resulting breakdown at the end.\n",
    "\n",
    "Execute all the cells one after another."
   ]
  },
  {
   "cell_type": "code",
   "execution_count": null,
   "id": "774948fd",
   "metadata": {},
   "outputs": [],
   "source": [
    "import matplotlib.pyplot as plt\n",
    "import yfinance as yf\n",
    "import datetime as dt\n",
    "\n",
    "import time\n",
    "\n",
    "import multiprocessing as mp\n",
    "\n",
    "import xlsxwriter\n",
    "\n",
    "import platform\n",
    "\n",
    "import WebScraper\n",
    "import API\n",
    "from main import *"
   ]
  },
  {
   "cell_type": "markdown",
   "id": "2f71cb56",
   "metadata": {},
   "source": [
    "# Momentum Strategy\n",
    "The change of value from the different timeslots are denoted by $\\mu_i, 1 \\leq i \\leq 4$, called the momenta. They are combined into a single quantity\n",
    "$$\n",
    "\\mu := \\frac{\\sum_i w_i \\mu_i}{\\sum_i w_i}\n",
    "$$\n",
    "called the quality momentum. Here $w_i \\geq 0, 1 \\leq i \\leq 4$ are non-negative numbers called weights. They can be freely chosen, and they determine the strategy by *weighting* how much recent growth is valued. The larger the relative value of one of the weights the more impactful the corresponding momentum. The standard weight choice is $(w_1, w_2, w_3, w_4) = (1, 2, 3, 4)$.\n",
    "\n",
    "Please enter how much capital you want to invest, as well as the weights (note that they can't be negative and at least one has to be non-zero, can leave them blank to get standard values):"
   ]
  },
  {
   "cell_type": "code",
   "execution_count": null,
   "id": "d0f28096",
   "metadata": {},
   "outputs": [],
   "source": [
    "capital_string = input(\"How many money do you want to invest?\\nCapital = \")\n",
    "if(capital_string == \"\"):\n",
    "    capital_string = \"1000000\"\n",
    "\n",
    "try:\n",
    "    capital = float(capital_string)\n",
    "except:\n",
    "    raise TypeError(\"Please enter a valid number.\")\n",
    "\n",
    "if(capital <= 0):\n",
    "    raise ValueError(\"The capital has to be positive.\")\n",
    "\n",
    "w1_string = input(\"Weight 1: \")\n",
    "if(w1_string == \"\"):\n",
    "    w1_string = \"1\"\n",
    "w2_string = input(\"Weight 2: \")\n",
    "if(w2_string == \"\"):\n",
    "    w2_string = \"2\"\n",
    "w3_string = input(\"Weight 3: \")\n",
    "if(w3_string == \"\"):\n",
    "    w3_string = \"3\"\n",
    "w4_string = input(\"Weight 4: \")\n",
    "if(w4_string == \"\"):\n",
    "    w4_string = \"4\"\n",
    "    \n",
    "if(w1_string == \"\"):\n",
    "    w1_string = \"1\"\n",
    "try:\n",
    "    w1 = float(w1_string)\n",
    "    w2 = float(w2_string)\n",
    "    w3 = float(w3_string)\n",
    "    w4 = float(w4_string)\n",
    "except:\n",
    "    raise TypeError(\"The weights have to be valid numbers.\")\n",
    "    \n",
    "if(w1 < 0 or w2 < 0 or w3 < 0 or w4 < 0):\n",
    "    raise ValueError(\"The weights have to be non-negative.\")\n",
    "\n",
    "if(w1 > 10000 or w2 > 10000 or w3 > 10000 or w4 > 10000):\n",
    "    raise ValueError(\"The weights can't be that larger than 10000.\")\n",
    "    \n",
    "if(w1 + w2 + w3 + w4 == 0):\n",
    "    raise ValueError(\"At least one of the weights has to be non-zero.\")\n",
    "    \n",
    "totalWeight = w1 + w2 + w3 + w4\n",
    "weights = [w1 / totalWeight, w2 / totalWeight, w3 / totalWeight, w4 / totalWeight]\n",
    "\n",
    "print(f\"Capital = ${capital:.2f}, The adjusted Weights are {str(weights)}.\")"
   ]
  },
  {
   "cell_type": "markdown",
   "id": "38c22aa9",
   "metadata": {},
   "source": [
    "# Api Call\n",
    "The following cell gets all of the Tikers in the SNP500 (with some unsuitable exceptions) and then calls the Yahoo Finance API to get the corresponding stock values, saving them into a dictionary of dataframes. The API call takes roughly 2 minutes."
   ]
  },
  {
   "cell_type": "code",
   "execution_count": null,
   "id": "0d67bdf8",
   "metadata": {},
   "outputs": [],
   "source": [
    "tickers = WebScraper.SNP500Tickers(WriteToFile = True, Sorted = True)"
   ]
  },
  {
   "cell_type": "code",
   "execution_count": null,
   "id": "96129438",
   "metadata": {
    "scrolled": true
   },
   "outputs": [],
   "source": [
    "# Multiprocessing in Jupyter Notebooks does not work on Windows\n",
    "isMultiprocessing = (platform.system() != \"Windows\")\n",
    "\n",
    "if(isMultiprocessing):\n",
    "    print(f\"Multithreading is actived, number of parallel processes is {processCount}\")\n",
    "    df_dict = API.APICallMultiprocessing(tickers = tickers, processCount = 6)\n",
    "else: # Expected running time is ~3 minutes\n",
    "    print(\"Multithreading is deactived, note that this is going to be quite slow (~3min).\")\n",
    "    df_dict = API.APICall(tickers, Output = False, Time = False)"
   ]
  },
  {
   "cell_type": "code",
   "execution_count": null,
   "id": "c3342aaf",
   "metadata": {},
   "outputs": [],
   "source": [
    "lastIndex = len(df_dict[tickers[0]].index) - 1\n",
    "\n",
    "indices = []\n",
    "n = lastIndex // 12\n",
    "for i in range(n):\n",
    "    indices.append(lastIndex - 12 * (i + 1))\n",
    "\n",
    "df_temp = {}\n",
    "for tick in tickers:\n",
    "    df_temp[tick] = df_dict[tick][indices[0]-1:lastIndex]\n",
    "                            \n",
    "df_dict_list = [df_temp]\n",
    "\n",
    "for i in range(1, len(indices)):\n",
    "    df_temp = {}\n",
    "    for tick in tickers:\n",
    "        df_temp[tick] = df_dict[tick][indices[i]-1:indices[i - 1]]\n",
    "        \n",
    "    df_dict_list.append(df_temp)"
   ]
  },
  {
   "cell_type": "markdown",
   "id": "5abebdf0",
   "metadata": {},
   "source": [
    "## Calculation of the Momenta\n",
    "The following cell calculates the corresponding value differences and combines them into the Momentum number $\\mu$."
   ]
  },
  {
   "cell_type": "code",
   "execution_count": null,
   "id": "8767df7c",
   "metadata": {},
   "outputs": [],
   "source": [
    "df_list = []\n",
    "for df in df_dict_list:\n",
    "    df_list.append(CalculateMomentum(df, weights = weights, MomentumTreshhold = 0, capital = capital))"
   ]
  },
  {
   "cell_type": "markdown",
   "id": "b4b7fe5e",
   "metadata": {},
   "source": [
    "## Exporting to Excel\n",
    "Saves the calculated momenta, number of shares to buy and value of the shares into an XLSX file."
   ]
  },
  {
   "cell_type": "code",
   "execution_count": null,
   "id": "b31ce5bc",
   "metadata": {},
   "outputs": [],
   "source": [
    "for i in range(len(df_list)):\n",
    "    df_list[i].round(2).to_excel(f\"Data/QualityMomentum{2023-i}.xlsx\")"
   ]
  },
  {
   "cell_type": "markdown",
   "id": "2373a6e0",
   "metadata": {},
   "source": [
    "## Graphing the Portfolio\n",
    "Visualizes the breakdown of the resulting portfolio in a Pie chart, stocks which make up less than `remainderThreshhold` of the total Portfolio are combined into the \"Remainder\" category.\n",
    "\n",
    "Stocks which make up less than `labelThreshold` of the total value don't have their percentage displayed."
   ]
  },
  {
   "cell_type": "code",
   "execution_count": null,
   "id": "6dfe17db",
   "metadata": {},
   "outputs": [],
   "source": [
    "def PiPlot(df, remainderThreshold = 0.016, labelThreshold = 0.02):\n",
    "    totalValue = df[\"Share Value\"].sum()\n",
    "    inefficiency = capital - totalValue\n",
    "\n",
    "    selected = df[df[\"Share Value\"] / totalValue > remainderThreshold]\n",
    "    n = len(selected)\n",
    "    remainder = totalValue - selected[\"Share Value\"].sum()\n",
    "    printList = np.append(df[\"Share Value\"][:n], remainder)\n",
    "    printLabel = np.append(df.index[:n].values, \"Remainder\")\n",
    "    printExplode = np.append(np.zeros((1, n)), 0).tolist()\n",
    "\n",
    "    plt.pie(printList, labels = printLabel, explode = printExplode, autopct = lambda x : f\"{round(x, 1)}%\" if x > labelThreshold * 100 else \"\", shadow = True)\n",
    "    plt.show()"
   ]
  },
  {
   "cell_type": "code",
   "execution_count": null,
   "id": "e8cf0585",
   "metadata": {},
   "outputs": [],
   "source": [
    "print(\"2023\")\n",
    "PiPlot(df_list[0], remainderThreshold = 0.03, labelThreshold = 0.03)\n",
    "print(\"2022\")\n",
    "PiPlot(df_list[1], remainderThreshold = 0.02, labelThreshold = 0.03)\n",
    "print(\"2021\")\n",
    "PiPlot(df_list[2], remainderThreshold = 0.03, labelThreshold = 0.042)\n",
    "print(\"2020\")\n",
    "PiPlot(df_list[3], remainderThreshold = 0.03, labelThreshold = 0.03)"
   ]
  },
  {
   "cell_type": "markdown",
   "id": "516d5164",
   "metadata": {},
   "source": [
    "## Backtesting\n",
    "Picks a random time, calculates what stocks would have been bought and what the return would have been obtained if the strategy would have been followed. Of course this is theoretical because the companies in the SNP vary, here we just assume that the S&P500 is temporaly consistent.\n",
    "\n",
    "Let's first go through everything with an example, we have the above Portfolio breakdown for 2021-2022, according to this we have the following portfolio breakdown:"
   ]
  },
  {
   "cell_type": "code",
   "execution_count": null,
   "id": "b6318231",
   "metadata": {},
   "outputs": [],
   "source": [
    "currVal_list = []\n",
    "for df in df_list:\n",
    "    curr = 0\n",
    "    for tick in df.index:\n",
    "        curr = curr + df[\"Shares\"][tick] * df_dict[tick][\"Open\"][-1]\n",
    "        \n",
    "    currVal_list.append(curr)\n",
    "    \n",
    "for c in currVal_list:\n",
    "    print(c)"
   ]
  },
  {
   "cell_type": "code",
   "execution_count": null,
   "id": "6128a3bd",
   "metadata": {},
   "outputs": [],
   "source": [
    "returns = []\n",
    "startInvestment = []\n",
    "for i in range(len(currVal_list)):\n",
    "    startInvestment.append(df_list[i][\"Share Value\"].sum())\n",
    "    returns.append(currVal_list[i] - df_list[i][\"Share Value\"].sum())"
   ]
  },
  {
   "cell_type": "code",
   "execution_count": null,
   "id": "ac50e1da",
   "metadata": {},
   "outputs": [],
   "source": [
    "print(\"Using the weights:\")\n",
    "for w in weights:\n",
    "    print(w)\n",
    "print(\"We obtain the following results\")\n",
    "print(f\"On an initial capital of ${capital:.2f} the returns starting in the corresponding year would have been:\")\n",
    "for i in range(len(returns)):\n",
    "    print(f\"{2022 - i}: ${startInvestment[i]:.2f} invested, current value = ${currVal_list[i]:.2f} meaning a total profit of ${returns[i]:.2f}, which is a return of {(returns[i] / startInvestment[i]) * 100 / (i + 1):.2f}%.\")"
   ]
  },
  {
   "cell_type": "code",
   "execution_count": null,
   "id": "6d294e74",
   "metadata": {},
   "outputs": [],
   "source": []
  }
 ],
 "metadata": {
  "kernelspec": {
   "display_name": "Python 3 (ipykernel)",
   "language": "python",
   "name": "python3"
  },
  "language_info": {
   "codemirror_mode": {
    "name": "ipython",
    "version": 3
   },
   "file_extension": ".py",
   "mimetype": "text/x-python",
   "name": "python",
   "nbconvert_exporter": "python",
   "pygments_lexer": "ipython3",
   "version": "3.9.13"
  }
 },
 "nbformat": 4,
 "nbformat_minor": 5
}
